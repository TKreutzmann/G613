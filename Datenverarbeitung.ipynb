{
 "cells": [
  {
   "cell_type": "code",
   "execution_count": 1,
   "metadata": {},
   "outputs": [],
   "source": [
    "import os\n",
    "import requests\n",
    "import xml.etree.ElementTree as ET\n",
    "import pandas as pd\n",
    "import sqlite3\n",
    "import geopandas as gpd"
   ]
  },
  {
   "cell_type": "code",
   "execution_count": 5,
   "metadata": {},
   "outputs": [
    {
     "name": "stdout",
     "output_type": "stream",
     "text": [
      "         index         lat         lon                  time  trk_id  pt_id  \\\n",
      "0            0  51.0999913  13.6979035  2023-06-04T13:32:03Z       1      1   \n",
      "1            1  51.0998256  13.6980003  2023-06-04T13:32:06Z       1      2   \n",
      "2            2  51.0995470  13.6981006  2023-06-04T13:32:12Z       1      3   \n",
      "3            3  51.0992351  13.6981376  2023-06-04T13:32:19Z       1      4   \n",
      "4            4  51.0991044  13.6981409  2023-06-04T13:32:22Z       1      5   \n",
      "...        ...         ...         ...                   ...     ...    ...   \n",
      "204650  204650  51.0388694  13.6692057  2014-10-18T22:39:35Z     407   4996   \n",
      "204651  204651  51.0388694  13.6692057  2014-10-18T22:39:37Z     407   4997   \n",
      "204652  204652  51.0388694  13.6692057  2014-10-18T22:39:38Z     407   4998   \n",
      "204653  204653  51.0388694  13.6692057  2014-10-18T22:39:40Z     407   4999   \n",
      "204654  204654  51.0388694  13.6692058  2014-10-18T22:39:41Z     407   5000   \n",
      "\n",
      "          name  \n",
      "0       NoName  \n",
      "1       NoName  \n",
      "2       NoName  \n",
      "3       NoName  \n",
      "4       NoName  \n",
      "...        ...  \n",
      "204650  NoName  \n",
      "204651  NoName  \n",
      "204652  NoName  \n",
      "204653  NoName  \n",
      "204654  NoName  \n",
      "\n",
      "[204655 rows x 7 columns]\n"
     ]
    }
   ],
   "source": [
    "conn = sqlite3.connect('forschungsprojekt.db')\n",
    "r_df = pd.read_sql(\"select * from daten\",conn)\n",
    "print(r_df)"
   ]
  }
 ],
 "metadata": {
  "kernelspec": {
   "display_name": "Python 3",
   "language": "python",
   "name": "python3"
  },
  "language_info": {
   "codemirror_mode": {
    "name": "ipython",
    "version": 3
   },
   "file_extension": ".py",
   "mimetype": "text/x-python",
   "name": "python",
   "nbconvert_exporter": "python",
   "pygments_lexer": "ipython3",
   "version": "3.11.1"
  },
  "orig_nbformat": 4
 },
 "nbformat": 4,
 "nbformat_minor": 2
}
