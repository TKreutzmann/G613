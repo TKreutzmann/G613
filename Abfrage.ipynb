{
 "cells": [
  {
   "cell_type": "code",
   "execution_count": 25,
   "metadata": {},
   "outputs": [
    {
     "ename": "LoadExtensionError",
     "evalue": "Failed to load SpatiaLite extension. Verify that your python module sqlite3 has load_extension support and check that libspatialite is installed. Tried extension names: mod_spatialite, mod_spatialite.so, mod_spatialite.dylib",
     "output_type": "error",
     "traceback": [
      "\u001b[1;31m---------------------------------------------------------------------------\u001b[0m",
      "\u001b[1;31mOperationalError\u001b[0m                          Traceback (most recent call last)",
      "File \u001b[1;32mc:\\Users\\tobia\\AppData\\Local\\Programs\\Python\\Python311\\Lib\\site-packages\\spatialite\\connection.py:95\u001b[0m, in \u001b[0;36mConnection.enable_spatialite_extension\u001b[1;34m(self)\u001b[0m\n\u001b[0;32m     94\u001b[0m \u001b[39mtry\u001b[39;00m:\n\u001b[1;32m---> 95\u001b[0m     \u001b[39mself\u001b[39;49m\u001b[39m.\u001b[39;49mexecute(\u001b[39m\"\u001b[39;49m\u001b[39mSELECT load_extension(\u001b[39;49m\u001b[39m'\u001b[39;49m\u001b[39m%s\u001b[39;49;00m\u001b[39m'\u001b[39;49m\u001b[39m)\u001b[39;49m\u001b[39m\"\u001b[39;49m \u001b[39m%\u001b[39;49m ext_name)\n\u001b[0;32m     96\u001b[0m     \u001b[39mreturn\u001b[39;00m\n",
      "\u001b[1;31mOperationalError\u001b[0m: Das angegebene Modul wurde nicht gefunden.\r\n",
      "\nThe above exception was the direct cause of the following exception:\n",
      "\u001b[1;31mLoadExtensionError\u001b[0m                        Traceback (most recent call last)",
      "Cell \u001b[1;32mIn[25], line 7\u001b[0m\n\u001b[0;32m      5\u001b[0m \u001b[39mimport\u001b[39;00m \u001b[39mpandas\u001b[39;00m \u001b[39mas\u001b[39;00m \u001b[39mpd\u001b[39;00m\n\u001b[0;32m      6\u001b[0m \u001b[39mimport\u001b[39;00m \u001b[39msqlite3\u001b[39;00m\n\u001b[1;32m----> 7\u001b[0m \u001b[39mimport\u001b[39;00m \u001b[39mspatialite\u001b[39;00m\n",
      "File \u001b[1;32mc:\\Users\\tobia\\AppData\\Local\\Programs\\Python\\Python311\\Lib\\site-packages\\spatialite\\__init__.py:12\u001b[0m\n\u001b[0;32m      5\u001b[0m __all__ \u001b[39m=\u001b[39m (\n\u001b[0;32m      6\u001b[0m     \u001b[39m'\u001b[39m\u001b[39mconnect\u001b[39m\u001b[39m'\u001b[39m,\n\u001b[0;32m      7\u001b[0m     \u001b[39m'\u001b[39m\u001b[39mConnection\u001b[39m\u001b[39m'\u001b[39m,\n\u001b[0;32m      8\u001b[0m )\n\u001b[0;32m     11\u001b[0m version \u001b[39m=\u001b[39m __version__\n\u001b[1;32m---> 12\u001b[0m spatialite_version \u001b[39m=\u001b[39m get_spatialite_version()\n",
      "File \u001b[1;32mc:\\Users\\tobia\\AppData\\Local\\Programs\\Python\\Python311\\Lib\\site-packages\\spatialite\\connection.py:124\u001b[0m, in \u001b[0;36mget_spatialite_version\u001b[1;34m()\u001b[0m\n\u001b[0;32m    123\u001b[0m \u001b[39mdef\u001b[39;00m \u001b[39mget_spatialite_version\u001b[39m():\n\u001b[1;32m--> 124\u001b[0m     \u001b[39mwith\u001b[39;00m connect(\u001b[39m'\u001b[39;49m\u001b[39m:memory:\u001b[39;49m\u001b[39m'\u001b[39;49m) \u001b[39mas\u001b[39;00m db:\n\u001b[0;32m    125\u001b[0m         \u001b[39mreturn\u001b[39;00m db\u001b[39m.\u001b[39mexecute(\u001b[39m'\u001b[39m\u001b[39mSELECT spatialite_version()\u001b[39m\u001b[39m'\u001b[39m)\u001b[39m.\u001b[39mfetchone()[\u001b[39m0\u001b[39m]\n",
      "File \u001b[1;32mc:\\Users\\tobia\\AppData\\Local\\Programs\\Python\\Python311\\Lib\\site-packages\\spatialite\\connection.py:120\u001b[0m, in \u001b[0;36mconnect\u001b[1;34m(*args, **kwargs)\u001b[0m\n\u001b[0;32m    118\u001b[0m \u001b[39mdef\u001b[39;00m \u001b[39mconnect\u001b[39m(\u001b[39m*\u001b[39margs, \u001b[39m*\u001b[39m\u001b[39m*\u001b[39mkwargs):\n\u001b[0;32m    119\u001b[0m     kwargs[\u001b[39m'\u001b[39m\u001b[39mfactory\u001b[39m\u001b[39m'\u001b[39m] \u001b[39m=\u001b[39m Connection\n\u001b[1;32m--> 120\u001b[0m     \u001b[39mreturn\u001b[39;00m sqlite3\u001b[39m.\u001b[39;49mconnect(\u001b[39m*\u001b[39;49margs, \u001b[39m*\u001b[39;49m\u001b[39m*\u001b[39;49mkwargs)\n",
      "File \u001b[1;32mc:\\Users\\tobia\\AppData\\Local\\Programs\\Python\\Python311\\Lib\\site-packages\\spatialite\\connection.py:79\u001b[0m, in \u001b[0;36mConnection.__init__\u001b[1;34m(self, *args, **kwargs)\u001b[0m\n\u001b[0;32m     77\u001b[0m \u001b[39mdef\u001b[39;00m \u001b[39m__init__\u001b[39m(\u001b[39mself\u001b[39m, \u001b[39m*\u001b[39margs, \u001b[39m*\u001b[39m\u001b[39m*\u001b[39mkwargs):\n\u001b[0;32m     78\u001b[0m     \u001b[39msuper\u001b[39m(Connection, \u001b[39mself\u001b[39m)\u001b[39m.\u001b[39m\u001b[39m__init__\u001b[39m(\u001b[39m*\u001b[39margs, \u001b[39m*\u001b[39m\u001b[39m*\u001b[39mkwargs)\n\u001b[1;32m---> 79\u001b[0m     \u001b[39mself\u001b[39;49m\u001b[39m.\u001b[39;49menable_spatialite_extension()\n\u001b[0;32m     80\u001b[0m     \u001b[39mself\u001b[39m\u001b[39m.\u001b[39m_metadata \u001b[39m=\u001b[39m SpatialMetadata(\u001b[39mself\u001b[39m)\n",
      "File \u001b[1;32mc:\\Users\\tobia\\AppData\\Local\\Programs\\Python\\Python311\\Lib\\site-packages\\spatialite\\connection.py:106\u001b[0m, in \u001b[0;36mConnection.enable_spatialite_extension\u001b[1;34m(self)\u001b[0m\n\u001b[0;32m     98\u001b[0m         error \u001b[39m=\u001b[39m e\n\u001b[0;32m    100\u001b[0m msg \u001b[39m=\u001b[39m (\n\u001b[0;32m    101\u001b[0m     \u001b[39m'\u001b[39m\u001b[39mFailed to load SpatiaLite extension. \u001b[39m\u001b[39m'\u001b[39m\n\u001b[0;32m    102\u001b[0m     \u001b[39m'\u001b[39m\u001b[39mVerify that your python module sqlite3 has load_extension \u001b[39m\u001b[39m'\u001b[39m\n\u001b[0;32m    103\u001b[0m     \u001b[39m'\u001b[39m\u001b[39msupport and check that libspatialite is installed. \u001b[39m\u001b[39m'\u001b[39m\n\u001b[0;32m    104\u001b[0m     \u001b[39m'\u001b[39m\u001b[39mTried extension names: \u001b[39m\u001b[39m%s\u001b[39;00m\u001b[39m'\u001b[39m \u001b[39m%\u001b[39m \u001b[39m'\u001b[39m\u001b[39m, \u001b[39m\u001b[39m'\u001b[39m\u001b[39m.\u001b[39mjoin(\u001b[39mself\u001b[39m\u001b[39m.\u001b[39mEXT_NAMES)\n\u001b[0;32m    105\u001b[0m )\n\u001b[1;32m--> 106\u001b[0m \u001b[39mraise\u001b[39;00m LoadExtensionError(msg) \u001b[39mfrom\u001b[39;00m \u001b[39merror\u001b[39;00m\n",
      "\u001b[1;31mLoadExtensionError\u001b[0m: Failed to load SpatiaLite extension. Verify that your python module sqlite3 has load_extension support and check that libspatialite is installed. Tried extension names: mod_spatialite, mod_spatialite.so, mod_spatialite.dylib"
     ]
    }
   ],
   "source": [
    "#Benötigte Packages\n",
    "import os\n",
    "import requests\n",
    "import xml.etree.ElementTree as ET\n",
    "import pandas as pd\n",
    "import sqlite3"
   ]
  },
  {
   "cell_type": "code",
   "execution_count": 3,
   "metadata": {},
   "outputs": [],
   "source": [
    "# Grundeinstellungen\n",
    "\n",
    "# bestandteile der URL\n",
    "## alle Zahlen in Grad\n",
    "\n",
    "lons = [13.6]  # linker Rand\n",
    "lats = [51.0]  # unterer Rand\n",
    "zellweite_Lon = 0.1  # pro 0.1 ist die Zelle ca 7km breiter/schmaler\n",
    "zellweite_Lat = 0.1  # pro 0.1 ist die Zelle ca 11km höher/niedriger\n",
    "url1 = 'https://api.openstreetmap.org/api/0.6/trackpoints?bbox='  # bestandteile URL\n",
    "url2 = '&page='  # bestandteile URL"
   ]
  },
  {
   "cell_type": "code",
   "execution_count": null,
   "metadata": {},
   "outputs": [],
   "source": [
    "# BBOX und URL\n",
    "# Schleife für das erstellen der Dateien und hinzufügen der Punkte zu einem df\n",
    "for lon in lons:\n",
    "    for lat in lats:\n",
    "        bbox = f\"{lon},{lat},{lon + zellweite_Lon},{lat + zellweite_Lat}\"  # erstellen der BBOX\n",
    "        page = 0\n",
    "        os.makedirs(\"osmtracks\", exist_ok=True)  # Ordner erstellen um die .gpx zu speichern\n",
    "        while True:\n",
    "            url = f\"{url1}{bbox}{url2}{page}\"\n",
    "            response = requests.get(url)\n",
    "            filestring = f\"osmtracks/tracks_{page}.gpx\"  # Dateipfad und Name\n",
    "            with open(filestring, \"wb\") as file:\n",
    "                file.write(response.content)\n",
    "            \n",
    "            # datei direkt in xml umwandeln\n",
    "            new_files = filestring.replace(\".gpx\", \".xml\")\n",
    "            os.rename(filestring, new_files)\n",
    "    \n",
    "            page += 1  # Page um eins erhöhen\n",
    "            \n",
    "            size = os.path.getsize(new_files)  # Dateigröße für Abbruchbedingung\n",
    "            # Abbruchbedingung sehr wichtig, sonst wiederholt sich die letzte Page unendlich oft, bessere Alternative als\n",
    "            # Dateigröße finden\n",
    "            if size < 500000:\n",
    "                break\n"
   ]
  },
  {
   "cell_type": "code",
   "execution_count": 11,
   "metadata": {},
   "outputs": [],
   "source": [
    "# Benötigte Dataframes usw.\n",
    "tracks_df = pd.DataFrame(columns=[\"lat\", \"lon\", \"time\", \"trk_id\", \"pt_id\", \"name\"])\n",
    "track_df = pd.DataFrame(columns=[\"lat\", \"lon\", \"time\", \"trk_id\", \"pt_id\", \"name\"])"
   ]
  },
  {
   "cell_type": "code",
   "execution_count": null,
   "metadata": {},
   "outputs": [],
   "source": [
    "files = []\n",
    "\n",
    "for file in os.listdir(\"/Forschungsprojekt/G613/osmtracks\"):\n",
    "    if file.endswith(\".xml\"):\n",
    "        files.append(file)\n",
    "\n",
    "trk_counter = 0\n",
    "for file in files:\n",
    "    tree = ET.parse(\"/Forschungsprojekt/G613/osmtracks/\" + file)\n",
    "    root = tree.getroot()\n",
    "    for trk in root.findall(\".//{http://www.topografix.com/GPX/1/0}trk\"):\n",
    "        for trkseg in trk.findall(\".//{http://www.topografix.com/GPX/1/0}trkseg\"):\n",
    "            trk_counter += 1\n",
    "            pt_id = 0\n",
    "            for trkpt in trkseg.findall(\".//{http://www.topografix.com/GPX/1/0}trkpt\"):\n",
    "                lat = trkpt.get(\"lat\")\n",
    "                lon = trkpt.get(\"lon\")\n",
    "                time = trkpt.find(\".//{http://www.topografix.com/GPX/1/0}time\").text if trkpt.find(\".//{http://www.topografix.com/GPX/1/0}time\") is not None else \"NA\"\n",
    "                name = trkpt.find(\".//{http://www.topografix.com/GPX/1/0}name\").text if trkpt.find(\".//{http://www.topografix.com/GPX/1/0}name\") is not None else \"NoName\"\n",
    "                pt_id += 1\n",
    "                new_row = [lat, lon, time, trk_counter, pt_id, name]\n",
    "                track_df.loc[len(track_df)] = new_row\n",
    "\n",
    "    tracks_df = pd.concat([tracks_df, track_df], ignore_index=True)\n",
    "    track_df = pd.DataFrame(columns=[\"lat\", \"lon\", \"time\", \"trk_id\", \"pt_id\", \"name\"])\n"
   ]
  },
  {
   "cell_type": "code",
   "execution_count": 26,
   "metadata": {},
   "outputs": [
    {
     "data": {
      "text/plain": [
       "<sqlite3.Cursor at 0x2032ee31ec0>"
      ]
     },
     "execution_count": 26,
     "metadata": {},
     "output_type": "execute_result"
    }
   ],
   "source": [
    "#verbindung aufbauen\n",
    "conn = sqlite3.connect('forschungsprojekt.db')\n",
    "conn.execute(\"DROP TABLE IF EXISTS forschungsprojekt\")\n",
    "conn.execute(\"CREATE TABLE forschungsprojekt (lat float8,lon float8,time time,trk_id bigint,pt_id bigint,name VARCHAR(255))\")"
   ]
  },
  {
   "cell_type": "code",
   "execution_count": 29,
   "metadata": {},
   "outputs": [
    {
     "name": "stdout",
     "output_type": "stream",
     "text": [
      "         index         lat         lon                  time  trk_id  pt_id  \\\n",
      "0            0  51.0999913  13.6979035  2023-06-04T13:32:03Z       1      1   \n",
      "1            1  51.0998256  13.6980003  2023-06-04T13:32:06Z       1      2   \n",
      "2            2  51.0995470  13.6981006  2023-06-04T13:32:12Z       1      3   \n",
      "3            3  51.0992351  13.6981376  2023-06-04T13:32:19Z       1      4   \n",
      "4            4  51.0991044  13.6981409  2023-06-04T13:32:22Z       1      5   \n",
      "...        ...         ...         ...                   ...     ...    ...   \n",
      "204650  204650  51.0388694  13.6692057  2014-10-18T22:39:35Z     407   4996   \n",
      "204651  204651  51.0388694  13.6692057  2014-10-18T22:39:37Z     407   4997   \n",
      "204652  204652  51.0388694  13.6692057  2014-10-18T22:39:38Z     407   4998   \n",
      "204653  204653  51.0388694  13.6692057  2014-10-18T22:39:40Z     407   4999   \n",
      "204654  204654  51.0388694  13.6692058  2014-10-18T22:39:41Z     407   5000   \n",
      "\n",
      "          name  \n",
      "0       NoName  \n",
      "1       NoName  \n",
      "2       NoName  \n",
      "3       NoName  \n",
      "4       NoName  \n",
      "...        ...  \n",
      "204650  NoName  \n",
      "204651  NoName  \n",
      "204652  NoName  \n",
      "204653  NoName  \n",
      "204654  NoName  \n",
      "\n",
      "[204655 rows x 7 columns]\n"
     ]
    }
   ],
   "source": [
    "#cur.execute(\"INSERT INTO forschungsprjekt.daten VALUES(%2)\")\n",
    "tracks_df.to_sql(\"daten\",conn,\"forschungsprojekt\", if_exists=\"replace\")\n",
    "conn.commit()"
   ]
  },
  {
   "cell_type": "code",
   "execution_count": 23,
   "metadata": {},
   "outputs": [],
   "source": [
    "# Verbidnung schließen\n",
    "conn.close()"
   ]
  }
 ],
 "metadata": {
  "kernelspec": {
   "display_name": "base",
   "language": "python",
   "name": "python3"
  },
  "language_info": {
   "codemirror_mode": {
    "name": "ipython",
    "version": 3
   },
   "file_extension": ".py",
   "mimetype": "text/x-python",
   "name": "python",
   "nbconvert_exporter": "python",
   "pygments_lexer": "ipython3",
   "version": "3.11.1"
  },
  "orig_nbformat": 4
 },
 "nbformat": 4,
 "nbformat_minor": 2
}
